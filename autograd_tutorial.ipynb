{
  "cells": [
    {
      "cell_type": "code",
      "execution_count": 1,
      "metadata": {
        "id": "diAINqaCbqTU"
      },
      "outputs": [],
      "source": [
        "# For tips on running notebooks in Google Colab, see\n",
        "# https://pytorch.org/tutorials/beginner/colab\n",
        "%matplotlib inline"
      ]
    },
    {
      "cell_type": "markdown",
      "metadata": {
        "id": "OLb63tWbbqTV"
      },
      "source": [
        "A Gentle Introduction to `torch.autograd`\n",
        "=========================================\n",
        "\n",
        "`torch.autograd` is PyTorch's automatic differentiation engine that\n",
        "powers neural network training. In this section, you will get a\n",
        "conceptual understanding of how autograd helps a neural network train.\n",
        "\n",
        "Background\n",
        "----------\n",
        "\n",
        "Neural networks (NNs) are a collection of nested functions that are\n",
        "executed on some input data. These functions are defined by *parameters*\n",
        "(consisting of weights and biases), which in PyTorch are stored in\n",
        "tensors.\n",
        "\n",
        "Training a NN happens in two steps:\n",
        "\n",
        "**Forward Propagation**: In forward prop, the NN makes its best guess\n",
        "about the correct output. It runs the input data through each of its\n",
        "functions to make this guess.\n",
        "\n",
        "**Backward Propagation**: In backprop, the NN adjusts its parameters\n",
        "proportionate to the error in its guess. It does this by traversing\n",
        "backwards from the output, collecting the derivatives of the error with\n",
        "respect to the parameters of the functions (*gradients*), and optimizing\n",
        "the parameters using gradient descent. For a more detailed walkthrough\n",
        "of backprop, check out this [video from\n",
        "3Blue1Brown](https://www.youtube.com/watch?v=tIeHLnjs5U8).\n",
        "\n",
        "Usage in PyTorch\n",
        "----------------\n",
        "\n",
        "Let\\'s take a look at a single training step. For this example, we load\n",
        "a pretrained resnet18 model from `torchvision`. We create a random data\n",
        "tensor to represent a single image with 3 channels, and height & width\n",
        "of 64, and its corresponding `label` initialized to some random values.\n",
        "Label in pretrained models has shape (1,1000).\n",
        "\n",
        "<div style=\"background-color: #54c7ec; color: #fff; font-weight: 700; padding-left: 10px; padding-top: 5px; padding-bottom: 5px\"><strong>NOTE:</strong></div>\n",
        "\n",
        "<div style=\"background-color: #f3f4f7; padding-left: 10px; padding-top: 10px; padding-bottom: 10px; padding-right: 10px\">\n",
        "\n",
        "<p>This tutorial works only on the CPU and will not work on GPU devices (even if tensors are moved to CUDA).</p>\n",
        "\n",
        "</div>\n",
        "\n"
      ]
    },
    {
      "cell_type": "code",
      "execution_count": 2,
      "metadata": {
        "id": "O7U3eeQHbqTW"
      },
      "outputs": [],
      "source": [
        "import torch\n",
        "from torchvision.models import resnet18, ResNet18_Weights\n",
        "model = resnet18(weights=ResNet18_Weights.DEFAULT)\n",
        "data = torch.rand(1, 3, 64, 64)\n",
        "labels = torch.rand(1, 1000)"
      ]
    },
    {
      "cell_type": "markdown",
      "metadata": {
        "id": "IUpVmsadbqTW"
      },
      "source": [
        "Next, we run the input data through the model through each of its layers\n",
        "to make a prediction. This is the **forward pass**.\n"
      ]
    },
    {
      "cell_type": "code",
      "execution_count": 3,
      "metadata": {
        "id": "kg6K5qx6bqTW"
      },
      "outputs": [
        {
          "data": {
            "text/plain": [
              "tensor([[-8.8093e-01, -5.2689e-01, -4.6240e-01, -1.7014e+00, -6.9666e-01,\n",
              "         -3.7385e-01, -6.1809e-01,  6.1352e-01,  5.1978e-01, -7.6427e-01,\n",
              "         -1.0729e+00, -6.7685e-01,  3.4118e-03, -8.7626e-01, -7.7378e-01,\n",
              "         -4.0373e-01, -6.0923e-01,  3.0051e-01, -3.1153e-01, -2.4115e-01,\n",
              "         -1.5241e+00, -4.9955e-01, -1.2725e+00,  5.0305e-01, -4.7914e-01,\n",
              "         -1.0489e+00, -7.9023e-01, -9.7253e-01, -8.9832e-01, -2.9334e-01,\n",
              "         -7.8852e-01, -6.2624e-01, -4.1215e-01, -7.2694e-01, -3.7371e-01,\n",
              "         -2.7869e-01,  6.8379e-01, -6.5817e-01, -3.3663e-01,  3.4423e-01,\n",
              "         -5.7163e-01, -6.7047e-01, -8.3376e-01, -3.9225e-01, -6.6904e-01,\n",
              "         -2.7451e-01, -5.2182e-01, -3.2609e-01, -8.7208e-01, -9.8710e-01,\n",
              "         -3.8404e-01,  3.9366e-01, -2.2886e-01, -7.2644e-01, -5.5038e-02,\n",
              "         -1.3099e+00, -1.8800e-01, -1.4092e+00, -3.8620e-01, -4.2722e-01,\n",
              "          8.5357e-01,  3.4983e-01, -1.8076e-02, -1.8013e-01, -8.5114e-01,\n",
              "         -2.5375e-01, -3.3026e-01, -2.1760e-01, -6.9824e-01, -1.0557e+00,\n",
              "         -1.5463e+00,  9.8965e-02, -1.3342e+00, -2.2882e-01, -8.3984e-01,\n",
              "         -1.2583e+00,  2.2352e-01, -5.7023e-01,  3.9650e-01,  4.7830e-02,\n",
              "         -6.8505e-01, -1.1774e+00,  3.0587e-01, -5.9810e-01, -3.4200e-01,\n",
              "          2.9583e-01,  3.5370e-01,  6.2578e-01, -3.3443e-02, -4.7710e-01,\n",
              "         -9.3752e-01, -8.2239e-01, -1.7944e+00, -1.6855e-01,  1.0923e-01,\n",
              "         -2.3054e+00, -4.8940e-01, -2.7061e-01, -1.4617e+00, -4.7051e-03,\n",
              "         -1.0585e+00, -8.9191e-01, -9.1183e-01, -4.6674e-01, -3.9874e-02,\n",
              "         -5.9066e-01, -6.7320e-01, -1.1946e+00, -1.0047e+00, -1.3813e+00,\n",
              "         -1.0012e+00, -7.1302e-01,  1.1327e+00,  1.3887e-01,  3.7021e-01,\n",
              "         -9.5556e-01, -8.1134e-01, -3.3205e-01,  6.6871e-01, -3.0080e-01,\n",
              "         -8.4409e-01,  1.7448e-01,  1.2471e-01,  1.0580e-01,  8.9881e-01,\n",
              "         -1.7000e-01,  5.0965e-01, -9.5011e-01, -1.3103e+00, -1.0696e+00,\n",
              "         -1.3666e+00, -1.1808e+00, -8.1211e-01, -1.2248e+00, -7.9749e-02,\n",
              "         -1.5214e+00, -9.1116e-01, -1.0773e+00, -1.0085e+00, -1.5747e+00,\n",
              "         -1.6903e+00, -1.8459e+00, -2.3604e+00, -1.5321e+00, -3.4627e-01,\n",
              "         -7.3091e-01, -9.3452e-01, -1.8352e+00, -1.0279e+00, -1.5520e+00,\n",
              "          5.3641e-01,  1.5027e+00, -9.5294e-01, -3.7405e-01, -1.1409e-01,\n",
              "          2.3320e-02, -4.8926e-01, -2.4628e-01, -2.0599e-02,  4.6077e-02,\n",
              "          3.3397e-01,  4.6032e-01, -3.8311e-02,  2.2549e-01,  1.8036e-01,\n",
              "         -3.6525e-01, -4.5408e-01, -7.0702e-01,  4.7428e-01, -1.9578e-01,\n",
              "          1.8977e-01,  8.1834e-01,  4.6040e-01,  2.3722e-01,  9.4910e-02,\n",
              "         -8.6416e-01,  3.5776e-01,  1.5488e-01,  7.7727e-01,  5.3388e-01,\n",
              "          4.6874e-01,  4.6097e-02,  4.5300e-01, -6.5009e-02,  5.8451e-01,\n",
              "          5.1817e-01,  1.1698e-01,  8.4772e-02, -1.4025e-01,  3.1742e-01,\n",
              "         -5.3703e-01,  1.7166e-01,  2.3639e-01,  1.3800e-01, -7.5449e-01,\n",
              "          6.3048e-01,  6.7336e-02,  2.1985e-01,  2.0163e-01,  5.7922e-01,\n",
              "         -7.0421e-02, -1.4230e-02,  5.3170e-01,  5.2113e-01,  1.9111e-01,\n",
              "          8.4260e-01,  2.3095e-01,  7.3012e-01,  1.5097e+00,  5.0648e-01,\n",
              "         -1.9077e-02,  3.7186e-01,  5.8679e-01,  2.6456e-02,  2.5883e-01,\n",
              "          2.6273e-01, -4.2695e-02,  3.2110e-01, -4.1722e-01,  6.0001e-01,\n",
              "         -1.5876e-02, -1.4613e-01,  3.6118e-01,  7.3100e-01,  2.9225e-01,\n",
              "          5.5819e-01,  2.6943e-01,  5.9346e-01, -2.7688e-01, -3.1929e-01,\n",
              "         -2.8200e-01,  4.0978e-01,  4.6840e-01, -3.3117e-01,  8.0217e-01,\n",
              "          6.0643e-01,  3.5389e-01,  2.4456e-01,  7.0554e-01, -1.9829e-01,\n",
              "          3.9847e-01, -1.9747e-01,  1.1602e-01, -3.7685e-04, -2.2488e-01,\n",
              "          4.6779e-02,  5.8572e-01, -1.7741e-01,  5.6670e-01,  1.9119e-01,\n",
              "          2.9000e-01,  9.6384e-01, -8.4578e-01,  1.1163e-01,  7.3500e-01,\n",
              "         -3.7457e-01,  5.8534e-01,  4.0381e-01, -1.2915e-01,  6.4615e-02,\n",
              "         -6.6246e-01, -7.3612e-01, -3.0235e-01, -1.6147e-01,  3.4941e-01,\n",
              "          6.7929e-01,  2.0087e-01,  6.6803e-01, -2.0640e-01, -4.3235e-01,\n",
              "         -7.0677e-01, -1.1402e+00, -5.6709e-01,  2.1294e-01, -1.2699e+00,\n",
              "         -1.1058e+00, -1.1260e+00, -1.1222e+00, -1.5447e+00, -5.3114e-01,\n",
              "         -4.2798e-01,  7.6053e-01,  7.9391e-01, -1.7275e-01, -4.7922e-02,\n",
              "          7.3443e-01, -2.7189e-01, -1.4424e-01, -6.2163e-01, -1.3242e+00,\n",
              "         -7.6299e-01, -1.2764e+00, -1.4087e-01, -7.9790e-01, -1.2543e+00,\n",
              "         -1.0061e+00, -8.7732e-01, -1.2457e+00, -8.7990e-02, -8.0416e-05,\n",
              "         -1.6639e+00, -5.7888e-01, -4.4452e-01, -1.3354e-01, -9.5732e-01,\n",
              "         -3.6295e-01,  2.9954e-01, -4.9981e-01, -1.2330e+00, -5.6460e-01,\n",
              "          4.1473e-01, -1.6044e-01, -3.8256e-01,  3.7119e-01,  7.2227e-01,\n",
              "         -3.9554e-01, -7.8076e-01, -8.5314e-01, -1.1726e+00, -6.0938e-01,\n",
              "         -1.3928e+00, -1.0451e+00, -1.4389e+00, -1.5736e+00, -1.4276e+00,\n",
              "         -1.6694e+00, -1.1477e+00, -1.2943e-01,  5.7697e-02, -4.5677e-01,\n",
              "          1.0806e-01, -7.7961e-02,  2.0019e-01,  3.1778e-01, -3.5784e-01,\n",
              "         -6.2301e-01, -1.3421e+00,  7.6326e-02,  8.3802e-01, -1.3028e+00,\n",
              "         -4.0201e-01,  6.2569e-01, -4.7445e-01, -1.1119e+00, -6.2426e-01,\n",
              "          4.7882e-01, -2.9505e-01, -1.6114e+00,  2.8852e-01, -1.3162e+00,\n",
              "         -1.0942e+00, -2.4787e+00, -1.5502e+00, -9.2099e-01, -6.6127e-01,\n",
              "          7.6870e-01,  9.3183e-01, -4.2502e-02,  4.8506e-01,  2.7094e-01,\n",
              "         -1.9828e-01,  5.4836e-01, -8.5658e-02,  5.6832e-01, -5.7097e-01,\n",
              "         -4.7148e-01, -1.1118e+00, -1.9122e-01, -1.0043e+00, -5.3346e-01,\n",
              "         -5.6328e-01, -1.8592e-01, -1.1887e-01,  1.5175e-02, -7.1865e-03,\n",
              "         -7.5169e-01, -1.2812e+00,  4.0775e-01, -4.7769e-01, -6.3858e-01,\n",
              "          1.8824e-01, -3.2247e-01, -1.6208e-01, -4.4168e-01, -9.0347e-01,\n",
              "         -4.3827e-01, -9.3760e-01, -1.1626e+00, -8.9562e-01, -2.8990e-01,\n",
              "          6.3351e-01,  7.8598e-02, -1.4742e+00, -1.6889e+00, -6.3602e-02,\n",
              "          5.6725e-01, -1.0638e+00, -9.4835e-01,  2.9462e-01,  1.1783e-01,\n",
              "         -1.0336e+00,  5.6812e-01,  9.7936e-02, -2.0424e+00, -1.6573e+00,\n",
              "         -6.8543e-01, -2.1633e-01, -1.1016e-01, -1.6581e-01,  6.7266e-01,\n",
              "          5.1280e-02,  3.7461e-01,  2.1852e+00,  1.0702e+00,  3.9693e-01,\n",
              "          1.0747e+00, -1.3881e-01,  4.3505e-01,  3.7619e-01,  8.6990e-01,\n",
              "          8.2284e-01,  1.3768e+00, -5.0966e-01,  1.3997e-01,  4.9353e-02,\n",
              "         -8.6746e-01, -3.7739e-01,  1.3398e+00,  1.8590e+00,  8.3020e-01,\n",
              "         -6.2936e-01, -1.9557e-01,  5.3222e-01,  5.4507e-01,  5.3546e-01,\n",
              "          9.4133e-01, -4.4387e-01, -3.4121e-01,  3.2067e-01,  2.2115e-01,\n",
              "          9.8349e-01,  4.5274e-01,  1.3003e-03, -4.5171e-01, -2.4094e-01,\n",
              "         -3.2277e-02,  2.7266e-01,  1.3515e+00,  1.1236e+00, -3.7633e-01,\n",
              "          1.0363e-01,  3.3002e-01,  7.2649e-01,  2.4432e-02,  8.6526e-02,\n",
              "          7.0194e-01,  1.8067e+00,  8.1236e-01,  8.7080e-02,  5.6446e-01,\n",
              "         -5.7642e-01,  2.4571e-01,  1.3879e+00,  2.4446e+00,  8.4752e-01,\n",
              "         -3.4801e-01, -1.1155e+00, -7.7203e-02, -8.2788e-02,  1.3663e+00,\n",
              "          8.9275e-01,  6.1181e-01,  2.3075e-01,  1.0921e+00, -1.9235e-01,\n",
              "         -2.6637e-01, -6.8001e-02,  6.6860e-01,  8.2309e-01,  2.6715e-01,\n",
              "          1.3534e-02,  3.7488e-01,  2.3673e-01, -8.6129e-01, -1.0053e+00,\n",
              "         -1.1432e-01, -2.4453e-01,  1.2126e+00,  1.4728e+00,  1.1556e+00,\n",
              "          1.3587e-01,  1.0600e+00,  2.7915e-01, -1.5304e+00,  1.1210e+00,\n",
              "         -1.0752e+00,  2.0087e-01, -2.9906e-01, -2.7535e-01,  1.2141e+00,\n",
              "         -1.4284e+00,  5.2629e-01,  1.0748e+00,  3.4192e-01,  9.2141e-01,\n",
              "          1.0829e+00,  1.1861e+00,  4.7014e-01,  3.4890e-01,  6.1665e-01,\n",
              "         -1.0451e+00, -8.7489e-01,  8.8161e-01,  1.5563e-01,  1.1593e+00,\n",
              "          1.9040e+00, -3.7833e-03,  1.3288e-01,  1.2681e+00,  5.8828e-01,\n",
              "         -8.2531e-01,  4.0502e-01,  1.0847e+00,  1.7326e+00,  6.6010e-02,\n",
              "         -3.8845e-01, -1.3975e-01, -5.2841e-01,  2.5084e-01, -2.3782e-01,\n",
              "          8.7039e-01,  1.1344e-01, -2.9651e-01, -8.2876e-01,  3.6238e-01,\n",
              "         -6.2558e-01, -2.8072e-01, -5.2389e-01,  4.1028e-01,  1.3647e+00,\n",
              "         -1.2281e+00,  1.6125e+00,  9.9596e-01,  3.4629e-01,  5.1785e-01,\n",
              "          8.4520e-01,  5.6671e-01, -1.8634e+00, -1.1684e+00, -3.8104e-01,\n",
              "         -5.8080e-01,  2.2231e-01,  6.3545e-01, -1.5218e-01, -1.2926e+00,\n",
              "         -6.9151e-01,  4.8172e-02,  3.7003e-01,  1.3976e+00,  9.6830e-01,\n",
              "          1.4629e-01, -1.2795e-01,  8.6018e-01,  2.5413e-02, -1.6174e+00,\n",
              "         -5.7031e-01,  3.0827e-01,  1.2183e+00,  7.3665e-01, -4.4629e-01,\n",
              "          9.5230e-01,  8.2026e-02,  4.8471e-01, -6.8159e-01,  6.0075e-01,\n",
              "         -2.6647e-01, -8.3980e-01,  9.0394e-01,  2.4569e-01,  5.6636e-02,\n",
              "          3.2222e-01, -2.0690e-01,  1.0625e+00,  5.3529e-01,  1.0083e+00,\n",
              "          1.1374e+00, -5.3773e-01,  1.7231e+00,  1.0775e+00,  1.3287e+00,\n",
              "         -7.2416e-01,  1.9089e-01, -3.5625e-01,  8.4886e-01,  1.6730e-01,\n",
              "         -4.2232e-01,  1.1267e+00, -6.0336e-02, -5.2482e-01,  8.6789e-01,\n",
              "          1.9595e+00, -3.5063e-02, -1.3395e-01, -3.3165e-01,  3.3802e-03,\n",
              "          1.5918e-01,  1.1137e+00, -5.8705e-01,  7.2013e-01,  1.1188e-02,\n",
              "          1.0389e+00,  5.8789e-01, -4.2958e-01,  4.8261e-01,  2.2102e-01,\n",
              "          2.7107e-01,  1.2654e+00,  5.7381e-01,  2.0238e+00,  6.5286e-01,\n",
              "          8.9797e-01,  7.5747e-01,  4.3031e-01,  4.9827e-01,  3.0900e-01,\n",
              "         -8.7540e-01,  8.9631e-01, -1.3795e-01, -1.0048e+00,  2.6728e-01,\n",
              "         -1.2856e-01,  8.6330e-01,  6.9889e-01,  1.0439e+00, -1.4454e-02,\n",
              "          1.6292e-01,  1.1822e+00,  1.0160e+00,  6.3058e-01, -4.6330e-02,\n",
              "         -1.4965e+00,  1.1154e+00, -1.1877e-01,  1.2543e+00,  6.4188e-01,\n",
              "         -1.1114e+00,  9.8721e-01,  2.1573e-01, -4.8595e-01, -1.4522e+00,\n",
              "          1.1135e+00,  1.3355e-02,  8.0834e-01,  5.4564e-01, -1.2603e-01,\n",
              "          4.2539e-01, -9.0826e-02,  3.6917e-01,  3.5729e-02,  5.2638e-01,\n",
              "          1.3033e-02, -1.1748e+00,  7.2985e-02, -9.4480e-01,  8.3533e-01,\n",
              "          2.3961e-01,  1.0049e+00,  2.2656e-01, -7.2736e-01, -4.6917e-01,\n",
              "          3.6644e-01, -2.3552e-02, -4.3790e-01,  6.0623e-01,  1.3362e+00,\n",
              "         -6.0664e-01,  1.6230e+00,  8.6029e-01,  5.5747e-01,  1.7252e-01,\n",
              "          4.1586e-01,  4.3872e-01, -6.5379e-01,  5.0410e-01,  6.7535e-01,\n",
              "         -1.4827e+00, -3.1932e-01, -1.3328e+00, -6.9178e-02, -9.0135e-01,\n",
              "         -5.4014e-01,  5.1603e-01,  8.5888e-01,  9.1923e-01, -9.6941e-01,\n",
              "          1.0689e+00,  1.6549e+00, -2.5931e-02, -4.7841e-01,  5.5475e-01,\n",
              "          1.8769e+00, -2.0472e-01, -2.0609e-01,  7.0235e-01,  8.7114e-01,\n",
              "         -5.4260e-01, -3.0141e-02,  3.5569e-01,  7.5524e-01,  2.7011e-01,\n",
              "          8.8676e-01,  1.0876e+00,  1.0000e-01, -5.1977e-01, -3.1204e-03,\n",
              "         -7.0441e-01,  6.1305e-01, -6.6202e-01, -4.6794e-01,  4.9916e-01,\n",
              "          4.6939e-01,  3.2081e-01,  1.5037e+00,  1.8655e-01, -4.8167e-01,\n",
              "          1.0786e+00, -6.4589e-01,  1.5572e-01,  1.6207e+00, -4.7183e-01,\n",
              "          1.8709e-01,  2.1578e+00, -6.4532e-01,  1.8686e+00, -1.3851e+00,\n",
              "          1.9113e-01, -1.4176e-01,  8.5088e-01,  8.6439e-01,  1.0079e-01,\n",
              "          1.1423e+00, -3.2992e-02,  2.3378e-01,  1.3973e-01,  9.7196e-01,\n",
              "          7.2079e-02, -2.7234e-02,  3.1486e-01,  6.7270e-01,  1.4668e+00,\n",
              "          4.0624e-01, -1.1513e-01,  5.5041e-01,  1.4049e-01,  7.0365e-01,\n",
              "         -5.3890e-01,  1.2339e+00, -2.4231e-02,  1.3639e+00, -2.2225e-01,\n",
              "          1.7005e-01,  9.0095e-01,  3.1125e-01,  1.0776e+00,  1.5471e+00,\n",
              "          9.2121e-01,  3.7301e-01,  5.8101e-01, -2.3216e-01,  1.1743e+00,\n",
              "          6.7648e-01,  1.7067e-01,  1.3264e+00,  4.9855e-01,  5.5134e-01,\n",
              "          3.2252e-01,  6.4924e-01,  5.3827e-01,  9.0541e-01, -8.3035e-01,\n",
              "         -7.5951e-01, -5.7063e-01,  8.6497e-01,  5.0889e-01,  1.7179e+00,\n",
              "          2.3124e-01,  4.3926e-01,  1.1928e+00,  3.1932e-01, -1.3128e-01,\n",
              "          9.5309e-01,  1.3319e+00,  1.7596e+00,  8.5645e-01,  2.8307e-01,\n",
              "          3.3271e-01,  1.1624e+00,  6.2400e-01, -8.0036e-01,  4.0561e-01,\n",
              "         -1.0117e+00,  2.5049e-01, -8.3943e-01, -1.3615e+00,  1.2252e+00,\n",
              "          1.0422e+00,  2.8021e-01,  5.4300e-01,  1.2374e+00,  1.4280e-01,\n",
              "         -8.1208e-01,  8.2508e-01,  4.4721e-03,  1.6851e+00, -7.4599e-01,\n",
              "         -4.1008e-02,  1.8550e-01, -1.2247e+00,  1.4997e+00,  5.5747e-01,\n",
              "         -1.4761e+00, -9.8184e-01,  2.0932e-01,  6.6290e-01,  9.2277e-01,\n",
              "         -7.0196e-01,  1.0560e-01,  5.9684e-01,  1.3150e+00, -4.5125e-01,\n",
              "          1.3739e+00,  2.2644e-01, -8.8104e-01, -5.8728e-01,  3.1784e-02,\n",
              "          6.8914e-01,  1.4903e+00,  1.6964e+00,  1.2229e+00, -5.3268e-01,\n",
              "          1.7471e+00,  3.8970e-01,  1.0298e-01,  5.6054e-01,  4.3530e-01,\n",
              "          1.8450e+00,  4.9508e-01, -3.9015e-01,  3.9574e-01,  7.9217e-01,\n",
              "          1.5678e+00,  1.3654e+00,  2.2198e+00, -3.8039e-01, -4.8378e-01,\n",
              "          5.5393e-01, -5.6730e-01, -8.2781e-02, -2.3906e-01,  6.7199e-01,\n",
              "          2.5957e-01,  1.4288e+00,  7.5080e-01,  4.0074e-02, -5.9014e-02,\n",
              "          7.6333e-01, -1.2393e-02, -6.4634e-02,  1.1292e+00, -4.3182e-01,\n",
              "          9.1556e-01, -1.3094e+00,  1.0481e+00, -1.1623e+00, -2.3727e+00,\n",
              "          3.0877e-01,  1.4490e+00, -3.0351e-01, -6.9235e-01,  1.7649e+00,\n",
              "          1.2792e+00, -5.6960e-01,  1.2371e+00,  1.0177e+00,  4.7971e-03,\n",
              "          2.4190e-01, -5.7284e-02, -3.4584e-01, -1.1072e+00,  3.7196e-01,\n",
              "         -4.5454e-01,  3.1096e-01,  3.3226e-01,  5.4994e-02, -8.3737e-01,\n",
              "         -6.1143e-01,  8.5300e-01,  6.5950e-01,  2.1767e+00,  1.9955e+00,\n",
              "         -1.0184e+00, -6.5546e-01,  1.7323e+00,  8.4810e-01,  9.4975e-01,\n",
              "         -6.0829e-03, -8.9569e-01,  1.2183e+00, -7.1065e-01,  1.1855e+00,\n",
              "          1.3417e+00,  1.3171e+00,  8.4844e-01, -5.9579e-01, -1.9803e+00,\n",
              "         -1.6310e-01,  3.6061e-01,  4.4608e-01,  3.7841e-01,  3.6567e-01,\n",
              "         -1.4631e-02,  9.6319e-01, -9.2393e-01,  3.7601e-01, -6.0764e-01,\n",
              "         -1.1760e+00, -1.0452e+00, -9.0765e-01, -2.7074e-01,  1.6456e+00,\n",
              "         -3.0483e-01, -2.8917e-02,  3.0853e-01, -1.9017e+00,  1.1540e-01,\n",
              "         -7.4393e-01,  1.7964e-01,  2.0442e-01, -1.6161e-02, -1.5233e-01,\n",
              "         -3.6737e-01, -8.2354e-01, -3.1479e-01, -2.0529e-03, -8.1971e-01,\n",
              "         -9.0300e-01, -1.3633e+00,  5.3833e-01,  6.8066e-01, -5.4515e-01,\n",
              "         -2.6744e-02, -8.3165e-01, -6.7739e-01,  6.1217e-02,  6.2427e-01,\n",
              "         -4.0984e-01, -5.3645e-01, -8.2478e-01,  2.0177e-01, -9.8589e-01,\n",
              "          2.7023e-01,  2.3702e-02, -5.5010e-01, -9.6525e-01, -1.6496e+00,\n",
              "         -5.7243e-01,  2.1801e-01, -7.1516e-01,  6.2538e-01, -1.1141e-01,\n",
              "          2.9109e-01,  8.7329e-01, -1.7333e-01, -2.4923e-01, -2.0581e+00,\n",
              "          1.2537e+00, -1.2688e+00,  3.5354e-01,  2.1000e-01, -5.6143e-01,\n",
              "         -6.2390e-01,  3.7208e-01,  4.8904e-01, -4.5385e-01, -1.0180e+00,\n",
              "         -1.5352e+00, -2.3832e+00,  1.4429e+00, -1.2876e-01, -7.3320e-01,\n",
              "         -3.3555e-01, -1.2597e+00, -7.9801e-01, -2.2143e+00, -7.8615e-01,\n",
              "         -7.4134e-01,  1.1961e-01, -4.9997e-01,  1.3769e+00,  8.9366e-01]],\n",
              "       grad_fn=<AddmmBackward0>)"
            ]
          },
          "execution_count": 3,
          "metadata": {},
          "output_type": "execute_result"
        }
      ],
      "source": [
        "prediction = model(data) # forward pass\n",
        "\n",
        "prediction"
      ]
    },
    {
      "cell_type": "markdown",
      "metadata": {
        "id": "6tbMUqrlbqTW"
      },
      "source": [
        "We use the model\\'s prediction and the corresponding label to calculate\n",
        "the error (`loss`). The next step is to backpropagate this error through\n",
        "the network. Backward propagation is kicked off when we call\n",
        "`.backward()` on the error tensor. Autograd then calculates and stores\n",
        "the gradients for each model parameter in the parameter\\'s `.grad`\n",
        "attribute.\n"
      ]
    },
    {
      "cell_type": "code",
      "execution_count": 4,
      "metadata": {
        "id": "rnqAegnibqTW"
      },
      "outputs": [
        {
          "name": "stdout",
          "output_type": "stream",
          "text": [
            "tensor(-496.1732, grad_fn=<SumBackward0>)\n"
          ]
        }
      ],
      "source": [
        "loss = (prediction - labels).sum()\n",
        "print(loss)\n",
        "loss.backward() # backward pass"
      ]
    },
    {
      "cell_type": "code",
      "execution_count": 5,
      "metadata": {},
      "outputs": [],
      "source": [
        "#for itm in model.parameters():\n",
        "#   print(itm.shape)"
      ]
    },
    {
      "cell_type": "markdown",
      "metadata": {
        "id": "FVvGUq7QbqTW"
      },
      "source": [
        "Next, we load an optimizer, in this case SGD with a learning rate of\n",
        "0.01 and\n",
        "[momentum](https://towardsdatascience.com/stochastic-gradient-descent-with-momentum-a84097641a5d)\n",
        "of 0.9. We register all the parameters of the model in the optimizer.\n"
      ]
    },
    {
      "cell_type": "code",
      "execution_count": 6,
      "metadata": {
        "id": "ew6YLClQbqTW"
      },
      "outputs": [],
      "source": [
        "optim = torch.optim.SGD(model.parameters(), lr=1e-2, momentum=0.9)"
      ]
    },
    {
      "cell_type": "markdown",
      "metadata": {
        "id": "y6EonhbrbqTX"
      },
      "source": [
        "Finally, we call `.step()` to initiate gradient descent. The optimizer\n",
        "adjusts each parameter by its gradient stored in `.grad`.\n"
      ]
    },
    {
      "cell_type": "code",
      "execution_count": 7,
      "metadata": {
        "id": "sA7mVfZVbqTX"
      },
      "outputs": [],
      "source": [
        "optim.step() #gradient descent"
      ]
    },
    {
      "cell_type": "markdown",
      "metadata": {
        "id": "vaivLnmHbqTX"
      },
      "source": [
        "At this point, you have everything you need to train your neural\n",
        "network. The below sections detail the workings of autograd - feel free\n",
        "to skip them.\n"
      ]
    },
    {
      "cell_type": "markdown",
      "metadata": {
        "id": "dA_SKK7HbqTX"
      },
      "source": [
        "------------------------------------------------------------------------\n"
      ]
    },
    {
      "cell_type": "markdown",
      "metadata": {
        "id": "aBmm2lmubqTX"
      },
      "source": [
        "Differentiation in Autograd\n",
        "===========================\n",
        "\n",
        "Let\\'s take a look at how `autograd` collects gradients. We create two\n",
        "tensors `a` and `b` with `requires_grad=True`. This signals to\n",
        "`autograd` that every operation on them should be tracked.\n"
      ]
    },
    {
      "cell_type": "code",
      "execution_count": 8,
      "metadata": {
        "id": "wpvkhO5hbqTX"
      },
      "outputs": [
        {
          "data": {
            "text/plain": [
              "(tensor([2., 3.], requires_grad=True), tensor([6., 4.], requires_grad=True))"
            ]
          },
          "execution_count": 8,
          "metadata": {},
          "output_type": "execute_result"
        }
      ],
      "source": [
        "import torch\n",
        "\n",
        "a = torch.tensor([2., 3.], requires_grad=True)\n",
        "b = torch.tensor([6., 4.], requires_grad=True)\n",
        "\n",
        "a, b"
      ]
    },
    {
      "cell_type": "markdown",
      "metadata": {
        "id": "NsZlBM2sbqTX"
      },
      "source": [
        "We create another tensor `Q` from `a` and `b`.\n",
        "\n",
        "$$Q = 3a^3 - b^2$$\n"
      ]
    },
    {
      "cell_type": "code",
      "execution_count": 9,
      "metadata": {
        "id": "JWcjrvFFbqTX"
      },
      "outputs": [
        {
          "name": "stderr",
          "output_type": "stream",
          "text": [
            "/var/folders/yd/_nsyqwd91x94ybl63vd1xw840000gn/T/ipykernel_79804/184405031.py:3: UserWarning: The .grad attribute of a Tensor that is not a leaf Tensor is being accessed. Its .grad attribute won't be populated during autograd.backward(). If you indeed want the .grad field to be populated for a non-leaf Tensor, use .retain_grad() on the non-leaf Tensor. If you access the non-leaf Tensor by mistake, make sure you access the leaf Tensor instead. See github.com/pytorch/pytorch/pull/30531 for more informations. (Triggered internally at /Users/runner/work/pytorch/pytorch/pytorch/build/aten/src/ATen/core/TensorBody.h:494.)\n",
            "  Q.grad\n"
          ]
        }
      ],
      "source": [
        "Q = 3*a**3 - b**2\n",
        "\n",
        "Q.grad"
      ]
    },
    {
      "cell_type": "code",
      "execution_count": 14,
      "metadata": {},
      "outputs": [
        {
          "data": {
            "text/plain": [
              "tensor([36., 81.])"
            ]
          },
          "execution_count": 14,
          "metadata": {},
          "output_type": "execute_result"
        }
      ],
      "source": [
        "a.grad"
      ]
    },
    {
      "cell_type": "code",
      "execution_count": 15,
      "metadata": {},
      "outputs": [
        {
          "data": {
            "text/plain": [
              "tensor([-12.,  -8.])"
            ]
          },
          "execution_count": 15,
          "metadata": {},
          "output_type": "execute_result"
        }
      ],
      "source": [
        "b.grad"
      ]
    },
    {
      "cell_type": "markdown",
      "metadata": {
        "id": "9McxncZ8bqTX"
      },
      "source": [
        "Let\\'s assume `a` and `b` to be parameters of an NN, and `Q` to be the\n",
        "error. In NN training, we want gradients of the error w.r.t. parameters,\n",
        "i.e.\n",
        "\n",
        "$$\\frac{\\partial Q}{\\partial a} = 9a^2$$\n",
        "\n",
        "$$\\frac{\\partial Q}{\\partial b} = -2b$$\n",
        "\n",
        "When we call `.backward()` on `Q`, autograd calculates these gradients\n",
        "and stores them in the respective tensors\\' `.grad` attribute.\n",
        "\n",
        "We need to explicitly pass a `gradient` argument in `Q.backward()`\n",
        "because it is a vector. `gradient` is a tensor of the same shape as `Q`,\n",
        "and it represents the gradient of Q w.r.t. itself, i.e.\n",
        "\n",
        "$$\\frac{dQ}{dQ} = 1$$\n",
        "\n",
        "Equivalently, we can also aggregate Q into a scalar and call backward\n",
        "implicitly, like `Q.sum().backward()`.\n"
      ]
    },
    {
      "cell_type": "code",
      "execution_count": 12,
      "metadata": {
        "id": "SngH2j8nbqTX"
      },
      "outputs": [],
      "source": [
        "external_grad = torch.tensor([1., 1.])\n",
        "Q.backward(gradient=external_grad)"
      ]
    },
    {
      "cell_type": "markdown",
      "metadata": {
        "id": "7FSGLmpLbqTX"
      },
      "source": [
        "Gradients are now deposited in `a.grad` and `b.grad`\n"
      ]
    },
    {
      "cell_type": "code",
      "execution_count": 13,
      "metadata": {
        "id": "_MGBWkf1bqTX"
      },
      "outputs": [
        {
          "name": "stdout",
          "output_type": "stream",
          "text": [
            "tensor([True, True])\n",
            "tensor([True, True])\n"
          ]
        }
      ],
      "source": [
        "# check if collected gradients are correct\n",
        "print(9*a**2 == a.grad)\n",
        "print(-2*b == b.grad)"
      ]
    },
    {
      "cell_type": "markdown",
      "metadata": {
        "id": "IBEVUAVKbqTX"
      },
      "source": [
        "Optional Reading - Vector Calculus using `autograd`\n",
        "===================================================\n",
        "\n",
        "Mathematically, if you have a vector valued function\n",
        "$\\vec{y}=f(\\vec{x})$, then the gradient of $\\vec{y}$ with respect to\n",
        "$\\vec{x}$ is a Jacobian matrix $J$:\n",
        "\n",
        "$$\\begin{aligned}\n",
        "J\n",
        "=\n",
        " \\left(\\begin{array}{cc}\n",
        " \\frac{\\partial \\bf{y}}{\\partial x_{1}} &\n",
        " ... &\n",
        " \\frac{\\partial \\bf{y}}{\\partial x_{n}}\n",
        " \\end{array}\\right)\n",
        "=\n",
        "\\left(\\begin{array}{ccc}\n",
        " \\frac{\\partial y_{1}}{\\partial x_{1}} & \\cdots & \\frac{\\partial y_{1}}{\\partial x_{n}}\\\\\n",
        " \\vdots & \\ddots & \\vdots\\\\\n",
        " \\frac{\\partial y_{m}}{\\partial x_{1}} & \\cdots & \\frac{\\partial y_{m}}{\\partial x_{n}}\n",
        " \\end{array}\\right)\n",
        "\\end{aligned}$$\n",
        "\n",
        "Generally speaking, `torch.autograd` is an engine for computing\n",
        "vector-Jacobian product. That is, given any vector $\\vec{v}$, compute\n",
        "the product $J^{T}\\cdot \\vec{v}$\n",
        "\n",
        "If $\\vec{v}$ happens to be the gradient of a scalar function\n",
        "$l=g\\left(\\vec{y}\\right)$:\n",
        "\n",
        "$$\\vec{v}\n",
        " =\n",
        " \\left(\\begin{array}{ccc}\\frac{\\partial l}{\\partial y_{1}} & \\cdots & \\frac{\\partial l}{\\partial y_{m}}\\end{array}\\right)^{T}$$\n",
        "\n",
        "then by the chain rule, the vector-Jacobian product would be the\n",
        "gradient of $l$ with respect to $\\vec{x}$:\n",
        "\n",
        "$$\\begin{aligned}\n",
        "J^{T}\\cdot \\vec{v} = \\left(\\begin{array}{ccc}\n",
        " \\frac{\\partial y_{1}}{\\partial x_{1}} & \\cdots & \\frac{\\partial y_{m}}{\\partial x_{1}}\\\\\n",
        " \\vdots & \\ddots & \\vdots\\\\\n",
        " \\frac{\\partial y_{1}}{\\partial x_{n}} & \\cdots & \\frac{\\partial y_{m}}{\\partial x_{n}}\n",
        " \\end{array}\\right)\\left(\\begin{array}{c}\n",
        " \\frac{\\partial l}{\\partial y_{1}}\\\\\n",
        " \\vdots\\\\\n",
        " \\frac{\\partial l}{\\partial y_{m}}\n",
        " \\end{array}\\right) = \\left(\\begin{array}{c}\n",
        " \\frac{\\partial l}{\\partial x_{1}}\\\\\n",
        " \\vdots\\\\\n",
        " \\frac{\\partial l}{\\partial x_{n}}\n",
        " \\end{array}\\right)\n",
        "\\end{aligned}$$\n",
        "\n",
        "This characteristic of vector-Jacobian product is what we use in the\n",
        "above example; `external_grad` represents $\\vec{v}$.\n"
      ]
    },
    {
      "cell_type": "markdown",
      "metadata": {
        "id": "3XrDPDErbqTX"
      },
      "source": [
        "Computational Graph\n",
        "===================\n",
        "\n",
        "Conceptually, autograd keeps a record of data (tensors) & all executed\n",
        "operations (along with the resulting new tensors) in a directed acyclic\n",
        "graph (DAG) consisting of\n",
        "[Function](https://pytorch.org/docs/stable/autograd.html#torch.autograd.Function)\n",
        "objects. In this DAG, leaves are the input tensors, roots are the output\n",
        "tensors. By tracing this graph from roots to leaves, you can\n",
        "automatically compute the gradients using the chain rule.\n",
        "\n",
        "In a forward pass, autograd does two things simultaneously:\n",
        "\n",
        "-   run the requested operation to compute a resulting tensor, and\n",
        "-   maintain the operation's *gradient function* in the DAG.\n",
        "\n",
        "The backward pass kicks off when `.backward()` is called on the DAG\n",
        "root. `autograd` then:\n",
        "\n",
        "-   computes the gradients from each `.grad_fn`,\n",
        "-   accumulates them in the respective tensor's `.grad` attribute, and\n",
        "-   using the chain rule, propagates all the way to the leaf tensors.\n",
        "\n",
        "Below is a visual representation of the DAG in our example. In the\n",
        "graph, the arrows are in the direction of the forward pass. The nodes\n",
        "represent the backward functions of each operation in the forward pass.\n",
        "The leaf nodes in blue represent our leaf tensors `a` and `b`.\n",
        "\n",
        "![](https://pytorch.org/tutorials/_static/img/dag_autograd.png)\n",
        "\n",
        "<div style=\"background-color: #54c7ec; color: #fff; font-weight: 700; padding-left: 10px; padding-top: 5px; padding-bottom: 5px\"><strong>NOTE:</strong></div>\n",
        "\n",
        "<div style=\"background-color: #f3f4f7; padding-left: 10px; padding-top: 10px; padding-bottom: 10px; padding-right: 10px\">\n",
        "\n",
        "<p>An important thing to note is that the graph is recreated from scratch; after each<code>.backward()</code> call, autograd starts populating a new graph. This isexactly what allows you to use control flow statements in your model;you can change the shape, size and operations at every iteration ifneeded.</p>\n",
        "\n",
        "</div>\n",
        "\n",
        "Exclusion from the DAG\n",
        "----------------------\n",
        "\n",
        "`torch.autograd` tracks operations on all tensors which have their\n",
        "`requires_grad` flag set to `True`. For tensors that don't require\n",
        "gradients, setting this attribute to `False` excludes it from the\n",
        "gradient computation DAG.\n",
        "\n",
        "The output tensor of an operation will require gradients even if only a\n",
        "single input tensor has `requires_grad=True`.\n"
      ]
    },
    {
      "cell_type": "code",
      "execution_count": 16,
      "metadata": {
        "id": "fLGR05xQbqTX"
      },
      "outputs": [
        {
          "name": "stdout",
          "output_type": "stream",
          "text": [
            "Does `a` require gradients?: False\n",
            "Does `b` require gradients?: True\n"
          ]
        }
      ],
      "source": [
        "x = torch.rand(5, 5)\n",
        "y = torch.rand(5, 5)\n",
        "z = torch.rand((5, 5), requires_grad=True)\n",
        "\n",
        "a = x + y\n",
        "print(f\"Does `a` require gradients?: {a.requires_grad}\")\n",
        "b = x + z\n",
        "print(f\"Does `b` require gradients?: {b.requires_grad}\")"
      ]
    },
    {
      "cell_type": "markdown",
      "metadata": {
        "id": "M_ncxj5obqTX"
      },
      "source": [
        "In a NN, parameters that don\\'t compute gradients are usually called\n",
        "**frozen parameters**. It is useful to \\\"freeze\\\" part of your model if\n",
        "you know in advance that you won\\'t need the gradients of those\n",
        "parameters (this offers some performance benefits by reducing autograd\n",
        "computations).\n",
        "\n",
        "In finetuning, we freeze most of the model and typically only modify the\n",
        "classifier layers to make predictions on new labels. Let\\'s walk through\n",
        "a small example to demonstrate this. As before, we load a pretrained\n",
        "resnet18 model, and freeze all the parameters.\n"
      ]
    },
    {
      "cell_type": "code",
      "execution_count": 17,
      "metadata": {
        "id": "X-PnowuXbqTX"
      },
      "outputs": [],
      "source": [
        "from torch import nn, optim\n",
        "\n",
        "model = resnet18(weights=ResNet18_Weights.DEFAULT)\n",
        "\n",
        "# Freeze all the parameters in the network\n",
        "for param in model.parameters():\n",
        "    param.requires_grad = False"
      ]
    },
    {
      "cell_type": "markdown",
      "metadata": {
        "id": "H31MHYplbqTY"
      },
      "source": [
        "Let\\'s say we want to finetune the model on a new dataset with 10\n",
        "labels. In resnet, the classifier is the last linear layer `model.fc`.\n",
        "We can simply replace it with a new linear layer (unfrozen by default)\n",
        "that acts as our classifier.\n"
      ]
    },
    {
      "cell_type": "code",
      "execution_count": 18,
      "metadata": {
        "id": "9lVWF4IpbqTY"
      },
      "outputs": [],
      "source": [
        "model.fc = nn.Linear(512, 10)"
      ]
    },
    {
      "cell_type": "markdown",
      "metadata": {
        "id": "QIfx8NvTbqTY"
      },
      "source": [
        "Now all parameters in the model, except the parameters of `model.fc`,\n",
        "are frozen. The only parameters that compute gradients are the weights\n",
        "and bias of `model.fc`.\n"
      ]
    },
    {
      "cell_type": "code",
      "execution_count": 19,
      "metadata": {
        "id": "rU8_knldbqTY"
      },
      "outputs": [],
      "source": [
        "# Optimize only the classifier\n",
        "optimizer = optim.SGD(model.parameters(), lr=1e-2, momentum=0.9)"
      ]
    },
    {
      "cell_type": "markdown",
      "metadata": {
        "id": "K9TVEMrobqTY"
      },
      "source": [
        "Notice although we register all the parameters in the optimizer, the\n",
        "only parameters that are computing gradients (and hence updated in\n",
        "gradient descent) are the weights and bias of the classifier.\n",
        "\n",
        "The same exclusionary functionality is available as a context manager in\n",
        "[torch.no\\_grad()](https://pytorch.org/docs/stable/generated/torch.no_grad.html)\n"
      ]
    },
    {
      "cell_type": "markdown",
      "metadata": {
        "id": "j4M6QYU6bqTY"
      },
      "source": [
        "------------------------------------------------------------------------\n"
      ]
    },
    {
      "cell_type": "markdown",
      "metadata": {
        "id": "U-jDCTllbqTY"
      },
      "source": [
        "Further readings:\n",
        "=================\n",
        "\n",
        "-   [In-place operations & Multithreaded\n",
        "    Autograd](https://pytorch.org/docs/stable/notes/autograd.html)\n",
        "-   [Example implementation of reverse-mode\n",
        "    autodiff](https://colab.research.google.com/drive/1VpeE6UvEPRz9HmsHh1KS0XxXjYu533EC)\n",
        "-   [Video: PyTorch Autograd Explained - In-depth\n",
        "    Tutorial](https://www.youtube.com/watch?v=MswxJw-8PvE)\n"
      ]
    }
  ],
  "metadata": {
    "colab": {
      "provenance": []
    },
    "kernelspec": {
      "display_name": "deep_learning_pytorch (3.13.1)",
      "language": "python",
      "name": "python3"
    },
    "language_info": {
      "codemirror_mode": {
        "name": "ipython",
        "version": 3
      },
      "file_extension": ".py",
      "mimetype": "text/x-python",
      "name": "python",
      "nbconvert_exporter": "python",
      "pygments_lexer": "ipython3",
      "version": "3.13.1"
    }
  },
  "nbformat": 4,
  "nbformat_minor": 0
}
